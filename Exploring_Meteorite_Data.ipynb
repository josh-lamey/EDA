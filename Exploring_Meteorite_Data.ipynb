{
  "nbformat": 4,
  "nbformat_minor": 0,
  "metadata": {
    "colab": {
      "provenance": [],
      "authorship_tag": "ABX9TyNBxYlv1wl/Mnlon5wO2f+w",
      "include_colab_link": true
    },
    "kernelspec": {
      "name": "python3",
      "display_name": "Python 3"
    }
  },
  "cells": [
    {
      "cell_type": "markdown",
      "metadata": {
        "id": "view-in-github",
        "colab_type": "text"
      },
      "source": [
        "<a href=\"https://colab.research.google.com/github/josh-lamey/EDA/blob/main/Exploring_Meteorite_Data.ipynb\" target=\"_parent\"><img src=\"https://colab.research.google.com/assets/colab-badge.svg\" alt=\"Open In Colab\"/></a>"
      ]
    },
    {
      "cell_type": "code",
      "metadata": {
        "id": "Eh0BVx7uklPH",
        "colab": {
          "base_uri": "https://localhost:8080/",
          "height": 35
        },
        "outputId": "13f29171-09a5-4b3e-93b0-de1b70457fdc"
      },
      "source": [
        "from google.colab import drive\n",
        "drive.mount('/content/gdrive')"
      ],
      "execution_count": null,
      "outputs": [
        {
          "output_type": "stream",
          "text": [
            "Drive already mounted at /content/gdrive; to attempt to forcibly remount, call drive.mount(\"/content/gdrive\", force_remount=True).\n"
          ],
          "name": "stdout"
        }
      ]
    },
    {
      "cell_type": "code",
      "metadata": {
        "id": "TGke9LU9qvs3"
      },
      "source": [
        "import pandas as pd\n",
        "import numpy as np\n",
        "import seaborn as sns #visualization\n",
        "import matplotlib.pyplot as plt #visualization\n",
        "import math\n",
        "\n",
        "#magic command to view plots within environment\n",
        "%matplotlib inline"
      ],
      "execution_count": null,
      "outputs": []
    },
    {
      "cell_type": "code",
      "metadata": {
        "id": "RZRE9fsRyi25"
      },
      "source": [
        "meteorites = pd.read_csv(\"/content/gdrive/My Drive/DataScience/meteoritessize.csv\")"
      ],
      "execution_count": null,
      "outputs": []
    },
    {
      "cell_type": "code",
      "metadata": {
        "id": "ctA2Dx3JzAHk",
        "colab": {
          "base_uri": "https://localhost:8080/",
          "height": 400
        },
        "outputId": "ca921767-744e-4ce5-a3e8-531415d46d32"
      },
      "source": [
        "# Displaying the first 5 rows\n",
        "meteorites.head()"
      ],
      "execution_count": null,
      "outputs": [
        {
          "output_type": "execute_result",
          "data": {
            "text/html": [
              "<div>\n",
              "<style scoped>\n",
              "    .dataframe tbody tr th:only-of-type {\n",
              "        vertical-align: middle;\n",
              "    }\n",
              "\n",
              "    .dataframe tbody tr th {\n",
              "        vertical-align: top;\n",
              "    }\n",
              "\n",
              "    .dataframe thead th {\n",
              "        text-align: right;\n",
              "    }\n",
              "</style>\n",
              "<table border=\"1\" class=\"dataframe\">\n",
              "  <thead>\n",
              "    <tr style=\"text-align: right;\">\n",
              "      <th></th>\n",
              "      <th>place</th>\n",
              "      <th>type_of_meteorite</th>\n",
              "      <th>mass_g</th>\n",
              "      <th>fell_found</th>\n",
              "      <th>year</th>\n",
              "      <th>database</th>\n",
              "      <th>coordinate_1</th>\n",
              "      <th>coordinates_2</th>\n",
              "      <th>cartodb_id</th>\n",
              "      <th>created_at</th>\n",
              "      <th>updated_at</th>\n",
              "      <th>the_geom</th>\n",
              "      <th>year_date</th>\n",
              "    </tr>\n",
              "  </thead>\n",
              "  <tbody>\n",
              "    <tr>\n",
              "      <th>0</th>\n",
              "      <td>Ur</td>\n",
              "      <td>Iron</td>\n",
              "      <td>0.00</td>\n",
              "      <td>Found</td>\n",
              "      <td>-2500.0</td>\n",
              "      <td>http://www.lpi.usra.edu/meteor/metbull.php?cod...</td>\n",
              "      <td>30.90000</td>\n",
              "      <td>46.01667</td>\n",
              "      <td>34242</td>\n",
              "      <td>2013-02-15 20:56:02.826333</td>\n",
              "      <td>2013-02-15 21:04:45.399478</td>\n",
              "      <td>0101000020E61000008369183E220247406666666666E6...</td>\n",
              "      <td>NaN</td>\n",
              "    </tr>\n",
              "    <tr>\n",
              "      <th>1</th>\n",
              "      <td>A-881561</td>\n",
              "      <td>H4</td>\n",
              "      <td>836.87</td>\n",
              "      <td>Found</td>\n",
              "      <td>1988.0</td>\n",
              "      <td>http://www.lpi.usra.edu/meteor/metbull.php?cod...</td>\n",
              "      <td>-72.00000</td>\n",
              "      <td>26.00000</td>\n",
              "      <td>4141</td>\n",
              "      <td>2013-02-15 20:56:02.826333</td>\n",
              "      <td>2013-02-15 21:11:51.900085</td>\n",
              "      <td>0101000020E61000000000000000003A40000000000000...</td>\n",
              "      <td>1988-01-01 00:00:00</td>\n",
              "    </tr>\n",
              "    <tr>\n",
              "      <th>2</th>\n",
              "      <td>Wietrzno-Bobrka</td>\n",
              "      <td>Iron</td>\n",
              "      <td>376.00</td>\n",
              "      <td>Found</td>\n",
              "      <td>-600.0</td>\n",
              "      <td>http://www.lpi.usra.edu/meteor/metbull.php?cod...</td>\n",
              "      <td>49.41667</td>\n",
              "      <td>21.70000</td>\n",
              "      <td>6037</td>\n",
              "      <td>2013-02-15 20:56:02.826333</td>\n",
              "      <td>2013-02-15 21:04:45.399478</td>\n",
              "      <td>0101000020E61000003333333333B33540B79C4B7155B5...</td>\n",
              "      <td>NaN</td>\n",
              "    </tr>\n",
              "    <tr>\n",
              "      <th>3</th>\n",
              "      <td>A-881448</td>\n",
              "      <td>H4</td>\n",
              "      <td>341.27</td>\n",
              "      <td>Found</td>\n",
              "      <td>1988.0</td>\n",
              "      <td>http://www.lpi.usra.edu/meteor/metbull.php?cod...</td>\n",
              "      <td>-72.00000</td>\n",
              "      <td>26.00000</td>\n",
              "      <td>6340</td>\n",
              "      <td>2013-02-15 20:56:02.826333</td>\n",
              "      <td>2013-02-15 21:11:51.900085</td>\n",
              "      <td>0101000020E61000000000000000003A40000000000000...</td>\n",
              "      <td>1988-01-01 00:00:00</td>\n",
              "    </tr>\n",
              "    <tr>\n",
              "      <th>4</th>\n",
              "      <td>A-881813</td>\n",
              "      <td>L6</td>\n",
              "      <td>296.96</td>\n",
              "      <td>Found</td>\n",
              "      <td>1988.0</td>\n",
              "      <td>http://www.lpi.usra.edu/meteor/metbull.php?cod...</td>\n",
              "      <td>-72.00000</td>\n",
              "      <td>26.00000</td>\n",
              "      <td>6753</td>\n",
              "      <td>2013-02-15 20:56:02.826333</td>\n",
              "      <td>2013-02-15 21:11:51.900085</td>\n",
              "      <td>0101000020E61000000000000000003A40000000000000...</td>\n",
              "      <td>1988-01-01 00:00:00</td>\n",
              "    </tr>\n",
              "  </tbody>\n",
              "</table>\n",
              "</div>"
            ],
            "text/plain": [
              "             place  ...            year_date\n",
              "0               Ur  ...                  NaN\n",
              "1         A-881561  ...  1988-01-01 00:00:00\n",
              "2  Wietrzno-Bobrka  ...                  NaN\n",
              "3         A-881448  ...  1988-01-01 00:00:00\n",
              "4         A-881813  ...  1988-01-01 00:00:00\n",
              "\n",
              "[5 rows x 13 columns]"
            ]
          },
          "metadata": {
            "tags": []
          },
          "execution_count": 141
        }
      ]
    },
    {
      "cell_type": "code",
      "metadata": {
        "id": "0ARqcK3WzU-N",
        "colab": {
          "base_uri": "https://localhost:8080/",
          "height": 400
        },
        "outputId": "a6bb6d59-6f34-4a1d-b854-3e0d1880b0e9"
      },
      "source": [
        "# Displaying the first 5 rows\n",
        "meteorites.head()"
      ],
      "execution_count": null,
      "outputs": [
        {
          "output_type": "execute_result",
          "data": {
            "text/html": [
              "<div>\n",
              "<style scoped>\n",
              "    .dataframe tbody tr th:only-of-type {\n",
              "        vertical-align: middle;\n",
              "    }\n",
              "\n",
              "    .dataframe tbody tr th {\n",
              "        vertical-align: top;\n",
              "    }\n",
              "\n",
              "    .dataframe thead th {\n",
              "        text-align: right;\n",
              "    }\n",
              "</style>\n",
              "<table border=\"1\" class=\"dataframe\">\n",
              "  <thead>\n",
              "    <tr style=\"text-align: right;\">\n",
              "      <th></th>\n",
              "      <th>place</th>\n",
              "      <th>type_of_meteorite</th>\n",
              "      <th>mass_g</th>\n",
              "      <th>fell_found</th>\n",
              "      <th>year</th>\n",
              "      <th>database</th>\n",
              "      <th>coordinate_1</th>\n",
              "      <th>coordinates_2</th>\n",
              "      <th>cartodb_id</th>\n",
              "      <th>created_at</th>\n",
              "      <th>updated_at</th>\n",
              "      <th>the_geom</th>\n",
              "      <th>year_date</th>\n",
              "    </tr>\n",
              "  </thead>\n",
              "  <tbody>\n",
              "    <tr>\n",
              "      <th>0</th>\n",
              "      <td>Ur</td>\n",
              "      <td>Iron</td>\n",
              "      <td>0.00</td>\n",
              "      <td>Found</td>\n",
              "      <td>-2500.0</td>\n",
              "      <td>http://www.lpi.usra.edu/meteor/metbull.php?cod...</td>\n",
              "      <td>30.90000</td>\n",
              "      <td>46.01667</td>\n",
              "      <td>34242</td>\n",
              "      <td>2013-02-15 20:56:02.826333</td>\n",
              "      <td>2013-02-15 21:04:45.399478</td>\n",
              "      <td>0101000020E61000008369183E220247406666666666E6...</td>\n",
              "      <td>NaN</td>\n",
              "    </tr>\n",
              "    <tr>\n",
              "      <th>1</th>\n",
              "      <td>A-881561</td>\n",
              "      <td>H4</td>\n",
              "      <td>836.87</td>\n",
              "      <td>Found</td>\n",
              "      <td>1988.0</td>\n",
              "      <td>http://www.lpi.usra.edu/meteor/metbull.php?cod...</td>\n",
              "      <td>-72.00000</td>\n",
              "      <td>26.00000</td>\n",
              "      <td>4141</td>\n",
              "      <td>2013-02-15 20:56:02.826333</td>\n",
              "      <td>2013-02-15 21:11:51.900085</td>\n",
              "      <td>0101000020E61000000000000000003A40000000000000...</td>\n",
              "      <td>1988-01-01 00:00:00</td>\n",
              "    </tr>\n",
              "    <tr>\n",
              "      <th>2</th>\n",
              "      <td>Wietrzno-Bobrka</td>\n",
              "      <td>Iron</td>\n",
              "      <td>376.00</td>\n",
              "      <td>Found</td>\n",
              "      <td>-600.0</td>\n",
              "      <td>http://www.lpi.usra.edu/meteor/metbull.php?cod...</td>\n",
              "      <td>49.41667</td>\n",
              "      <td>21.70000</td>\n",
              "      <td>6037</td>\n",
              "      <td>2013-02-15 20:56:02.826333</td>\n",
              "      <td>2013-02-15 21:04:45.399478</td>\n",
              "      <td>0101000020E61000003333333333B33540B79C4B7155B5...</td>\n",
              "      <td>NaN</td>\n",
              "    </tr>\n",
              "    <tr>\n",
              "      <th>3</th>\n",
              "      <td>A-881448</td>\n",
              "      <td>H4</td>\n",
              "      <td>341.27</td>\n",
              "      <td>Found</td>\n",
              "      <td>1988.0</td>\n",
              "      <td>http://www.lpi.usra.edu/meteor/metbull.php?cod...</td>\n",
              "      <td>-72.00000</td>\n",
              "      <td>26.00000</td>\n",
              "      <td>6340</td>\n",
              "      <td>2013-02-15 20:56:02.826333</td>\n",
              "      <td>2013-02-15 21:11:51.900085</td>\n",
              "      <td>0101000020E61000000000000000003A40000000000000...</td>\n",
              "      <td>1988-01-01 00:00:00</td>\n",
              "    </tr>\n",
              "    <tr>\n",
              "      <th>4</th>\n",
              "      <td>A-881813</td>\n",
              "      <td>L6</td>\n",
              "      <td>296.96</td>\n",
              "      <td>Found</td>\n",
              "      <td>1988.0</td>\n",
              "      <td>http://www.lpi.usra.edu/meteor/metbull.php?cod...</td>\n",
              "      <td>-72.00000</td>\n",
              "      <td>26.00000</td>\n",
              "      <td>6753</td>\n",
              "      <td>2013-02-15 20:56:02.826333</td>\n",
              "      <td>2013-02-15 21:11:51.900085</td>\n",
              "      <td>0101000020E61000000000000000003A40000000000000...</td>\n",
              "      <td>1988-01-01 00:00:00</td>\n",
              "    </tr>\n",
              "  </tbody>\n",
              "</table>\n",
              "</div>"
            ],
            "text/plain": [
              "             place  ...            year_date\n",
              "0               Ur  ...                  NaN\n",
              "1         A-881561  ...  1988-01-01 00:00:00\n",
              "2  Wietrzno-Bobrka  ...                  NaN\n",
              "3         A-881448  ...  1988-01-01 00:00:00\n",
              "4         A-881813  ...  1988-01-01 00:00:00\n",
              "\n",
              "[5 rows x 13 columns]"
            ]
          },
          "metadata": {
            "tags": []
          },
          "execution_count": 142
        }
      ]
    },
    {
      "cell_type": "code",
      "metadata": {
        "id": "yIvKnJ5ezx2s",
        "colab": {
          "base_uri": "https://localhost:8080/",
          "height": 90
        },
        "outputId": "167c55c6-c8fc-414b-8ec5-57475bf8a60b"
      },
      "source": [
        "meteorites.columns  #column names"
      ],
      "execution_count": null,
      "outputs": [
        {
          "output_type": "execute_result",
          "data": {
            "text/plain": [
              "Index(['place', 'type_of_meteorite', 'mass_g', 'fell_found', 'year',\n",
              "       'database', 'coordinate_1', 'coordinates_2', 'cartodb_id', 'created_at',\n",
              "       'updated_at', 'the_geom', 'year_date'],\n",
              "      dtype='object')"
            ]
          },
          "metadata": {
            "tags": []
          },
          "execution_count": 143
        }
      ]
    },
    {
      "cell_type": "code",
      "metadata": {
        "id": "xDrL9baH0Mh0",
        "colab": {
          "base_uri": "https://localhost:8080/",
          "height": 35
        },
        "outputId": "e640027f-9b13-4a6c-c0b4-cc1ea11cc6a6"
      },
      "source": [
        "meteorites.shape # how many rows, columns"
      ],
      "execution_count": null,
      "outputs": [
        {
          "output_type": "execute_result",
          "data": {
            "text/plain": [
              "(34513, 13)"
            ]
          },
          "metadata": {
            "tags": []
          },
          "execution_count": 144
        }
      ]
    },
    {
      "cell_type": "code",
      "metadata": {
        "id": "EUyFCHsh0abd",
        "colab": {
          "base_uri": "https://localhost:8080/",
          "height": 274
        },
        "outputId": "2643b5af-4063-4bae-fd12-fbeea13b7177"
      },
      "source": [
        "meteorites.nunique(axis=0) # number of unique values for each variable"
      ],
      "execution_count": null,
      "outputs": [
        {
          "output_type": "execute_result",
          "data": {
            "text/plain": [
              "place                34513\n",
              "type_of_meteorite      398\n",
              "mass_g               10471\n",
              "fell_found             155\n",
              "year                   316\n",
              "database             34513\n",
              "coordinate_1         12972\n",
              "coordinates_2        14953\n",
              "cartodb_id           34513\n",
              "created_at               1\n",
              "updated_at               3\n",
              "the_geom             17527\n",
              "year_date              312\n",
              "dtype: int64"
            ]
          },
          "metadata": {
            "tags": []
          },
          "execution_count": 145
        }
      ]
    },
    {
      "cell_type": "code",
      "metadata": {
        "id": "JcsAQO1s0ydk",
        "colab": {
          "base_uri": "https://localhost:8080/",
          "height": 274
        },
        "outputId": "f6aa5ea1-7e91-4474-a39e-99fde1f535ff"
      },
      "source": [
        "meteorites.dtypes # what type of data is each"
      ],
      "execution_count": null,
      "outputs": [
        {
          "output_type": "execute_result",
          "data": {
            "text/plain": [
              "place                 object\n",
              "type_of_meteorite     object\n",
              "mass_g               float64\n",
              "fell_found            object\n",
              "year                 float64\n",
              "database              object\n",
              "coordinate_1         float64\n",
              "coordinates_2        float64\n",
              "cartodb_id             int64\n",
              "created_at            object\n",
              "updated_at            object\n",
              "the_geom              object\n",
              "year_date             object\n",
              "dtype: object"
            ]
          },
          "metadata": {
            "tags": []
          },
          "execution_count": 174
        }
      ]
    },
    {
      "cell_type": "code",
      "metadata": {
        "id": "qG7gY2111DB8",
        "colab": {
          "base_uri": "https://localhost:8080/",
          "height": 300
        },
        "outputId": "471514d5-9b38-4471-c7e0-3598af6e1b28"
      },
      "source": [
        "meteorites.describe().apply(lambda s: s.apply(lambda x: format(x, 'f'))) # count, mean, standard deviation, min, and max for numeric variables, then format each row to the regular format and suppresses scientific notation"
      ],
      "execution_count": null,
      "outputs": [
        {
          "output_type": "execute_result",
          "data": {
            "text/html": [
              "<div>\n",
              "<style scoped>\n",
              "    .dataframe tbody tr th:only-of-type {\n",
              "        vertical-align: middle;\n",
              "    }\n",
              "\n",
              "    .dataframe tbody tr th {\n",
              "        vertical-align: top;\n",
              "    }\n",
              "\n",
              "    .dataframe thead th {\n",
              "        text-align: right;\n",
              "    }\n",
              "</style>\n",
              "<table border=\"1\" class=\"dataframe\">\n",
              "  <thead>\n",
              "    <tr style=\"text-align: right;\">\n",
              "      <th></th>\n",
              "      <th>mass_g</th>\n",
              "      <th>year</th>\n",
              "      <th>coordinate_1</th>\n",
              "      <th>coordinates_2</th>\n",
              "      <th>cartodb_id</th>\n",
              "    </tr>\n",
              "  </thead>\n",
              "  <tbody>\n",
              "    <tr>\n",
              "      <th>count</th>\n",
              "      <td>34513.000000</td>\n",
              "      <td>34166.000000</td>\n",
              "      <td>34513.000000</td>\n",
              "      <td>34513.000000</td>\n",
              "      <td>34513.000000</td>\n",
              "    </tr>\n",
              "    <tr>\n",
              "      <th>mean</th>\n",
              "      <td>16861.825502</td>\n",
              "      <td>1985.247410</td>\n",
              "      <td>-47.006794</td>\n",
              "      <td>69.789807</td>\n",
              "      <td>17257.000000</td>\n",
              "    </tr>\n",
              "    <tr>\n",
              "      <th>std</th>\n",
              "      <td>660031.138864</td>\n",
              "      <td>49.058956</td>\n",
              "      <td>46.880516</td>\n",
              "      <td>81.833069</td>\n",
              "      <td>9963.189257</td>\n",
              "    </tr>\n",
              "    <tr>\n",
              "      <th>min</th>\n",
              "      <td>0.000000</td>\n",
              "      <td>-2500.000000</td>\n",
              "      <td>-87.366670</td>\n",
              "      <td>-165.433330</td>\n",
              "      <td>1.000000</td>\n",
              "    </tr>\n",
              "    <tr>\n",
              "      <th>25%</th>\n",
              "      <td>5.100000</td>\n",
              "      <td>1981.000000</td>\n",
              "      <td>-76.843010</td>\n",
              "      <td>26.000000</td>\n",
              "      <td>8629.000000</td>\n",
              "    </tr>\n",
              "    <tr>\n",
              "      <th>50%</th>\n",
              "      <td>24.190000</td>\n",
              "      <td>1990.000000</td>\n",
              "      <td>-72.000000</td>\n",
              "      <td>54.884170</td>\n",
              "      <td>17257.000000</td>\n",
              "    </tr>\n",
              "    <tr>\n",
              "      <th>75%</th>\n",
              "      <td>170.690000</td>\n",
              "      <td>2000.000000</td>\n",
              "      <td>18.343670</td>\n",
              "      <td>158.779380</td>\n",
              "      <td>25885.000000</td>\n",
              "    </tr>\n",
              "    <tr>\n",
              "      <th>max</th>\n",
              "      <td>60000000.000000</td>\n",
              "      <td>2012.000000</td>\n",
              "      <td>81.166670</td>\n",
              "      <td>354.473330</td>\n",
              "      <td>34513.000000</td>\n",
              "    </tr>\n",
              "  </tbody>\n",
              "</table>\n",
              "</div>"
            ],
            "text/plain": [
              "                mass_g          year  coordinate_1 coordinates_2    cartodb_id\n",
              "count     34513.000000  34166.000000  34513.000000  34513.000000  34513.000000\n",
              "mean      16861.825502   1985.247410    -47.006794     69.789807  17257.000000\n",
              "std      660031.138864     49.058956     46.880516     81.833069   9963.189257\n",
              "min           0.000000  -2500.000000    -87.366670   -165.433330      1.000000\n",
              "25%           5.100000   1981.000000    -76.843010     26.000000   8629.000000\n",
              "50%          24.190000   1990.000000    -72.000000     54.884170  17257.000000\n",
              "75%         170.690000   2000.000000     18.343670    158.779380  25885.000000\n",
              "max    60000000.000000   2012.000000     81.166670    354.473330  34513.000000"
            ]
          },
          "metadata": {
            "tags": []
          },
          "execution_count": 175
        }
      ]
    },
    {
      "cell_type": "code",
      "metadata": {
        "id": "uUNwDIf14KQo",
        "colab": {
          "base_uri": "https://localhost:8080/",
          "height": 274
        },
        "outputId": "4ce081d6-ad43-463d-bbea-00bafdb42d3d"
      },
      "source": [
        "#craete a dataframe of the mass so we can run math on it\n",
        "df1 = pd.DataFrame(meteorites,columns=['mass_g'])\n",
        "print(df1)"
      ],
      "execution_count": null,
      "outputs": [
        {
          "output_type": "stream",
          "text": [
            "       mass_g\n",
            "0        0.00\n",
            "1      836.87\n",
            "2      376.00\n",
            "3      341.27\n",
            "4      296.96\n",
            "...       ...\n",
            "34508    0.00\n",
            "34509    0.00\n",
            "34510    0.00\n",
            "34511    0.00\n",
            "34512    0.00\n",
            "\n",
            "[34513 rows x 1 columns]\n"
          ],
          "name": "stdout"
        }
      ]
    },
    {
      "cell_type": "code",
      "metadata": {
        "id": "zpykou0BCpUZ",
        "colab": {
          "base_uri": "https://localhost:8080/",
          "height": 274
        },
        "outputId": "5f2d3c74-c766-4b16-8269-13ef2dd28869"
      },
      "source": [
        "df1['logmass_g'] = df1['mass_g'].replace(-0,np.NaN)  #created a dataframe, replacing all 0 values with \"NaN\"\n",
        "print(df1)\n"
      ],
      "execution_count": null,
      "outputs": [
        {
          "output_type": "stream",
          "text": [
            "       mass_g  logmass_g\n",
            "0        0.00        NaN\n",
            "1      836.87     836.87\n",
            "2      376.00     376.00\n",
            "3      341.27     341.27\n",
            "4      296.96     296.96\n",
            "...       ...        ...\n",
            "34508    0.00        NaN\n",
            "34509    0.00        NaN\n",
            "34510    0.00        NaN\n",
            "34511    0.00        NaN\n",
            "34512    0.00        NaN\n",
            "\n",
            "[34513 rows x 2 columns]\n"
          ],
          "name": "stdout"
        }
      ]
    },
    {
      "cell_type": "code",
      "metadata": {
        "id": "moZ6_I2B7sYX",
        "colab": {
          "base_uri": "https://localhost:8080/",
          "height": 274
        },
        "outputId": "eec21578-5dd2-426d-8664-b0727367e4e6"
      },
      "source": [
        "df1['finalogmass_g'] = np.log10(df1['logmass_g'])  #taking the log10 of the previous dataframe, essentially adding a column and calling the new object a new dataframe name\n",
        "print(df1)"
      ],
      "execution_count": null,
      "outputs": [
        {
          "output_type": "stream",
          "text": [
            "       mass_g  logmass_g  finalogmass_g\n",
            "0        0.00        NaN            NaN\n",
            "1      836.87     836.87       2.922658\n",
            "2      376.00     376.00       2.575188\n",
            "3      341.27     341.27       2.533098\n",
            "4      296.96     296.96       2.472698\n",
            "...       ...        ...            ...\n",
            "34508    0.00        NaN            NaN\n",
            "34509    0.00        NaN            NaN\n",
            "34510    0.00        NaN            NaN\n",
            "34511    0.00        NaN            NaN\n",
            "34512    0.00        NaN            NaN\n",
            "\n",
            "[34513 rows x 3 columns]\n"
          ],
          "name": "stdout"
        }
      ]
    },
    {
      "cell_type": "code",
      "metadata": {
        "id": "IQK5kMOv6pJr",
        "colab": {
          "base_uri": "https://localhost:8080/",
          "height": 300
        },
        "outputId": "ad47a694-8a24-40e3-a882-57a79775774a"
      },
      "source": [
        "df1.describe().apply(lambda s: s.apply(lambda x: format(x, 'f')))  # checking the max and min values"
      ],
      "execution_count": null,
      "outputs": [
        {
          "output_type": "execute_result",
          "data": {
            "text/html": [
              "<div>\n",
              "<style scoped>\n",
              "    .dataframe tbody tr th:only-of-type {\n",
              "        vertical-align: middle;\n",
              "    }\n",
              "\n",
              "    .dataframe tbody tr th {\n",
              "        vertical-align: top;\n",
              "    }\n",
              "\n",
              "    .dataframe thead th {\n",
              "        text-align: right;\n",
              "    }\n",
              "</style>\n",
              "<table border=\"1\" class=\"dataframe\">\n",
              "  <thead>\n",
              "    <tr style=\"text-align: right;\">\n",
              "      <th></th>\n",
              "      <th>mass_g</th>\n",
              "      <th>logmass_g</th>\n",
              "      <th>finalogmass_g</th>\n",
              "    </tr>\n",
              "  </thead>\n",
              "  <tbody>\n",
              "    <tr>\n",
              "      <th>count</th>\n",
              "      <td>34513.000000</td>\n",
              "      <td>34065.000000</td>\n",
              "      <td>34065.000000</td>\n",
              "    </tr>\n",
              "    <tr>\n",
              "      <th>mean</th>\n",
              "      <td>16861.825502</td>\n",
              "      <td>17083.580905</td>\n",
              "      <td>3.613131</td>\n",
              "    </tr>\n",
              "    <tr>\n",
              "      <th>std</th>\n",
              "      <td>660031.138864</td>\n",
              "      <td>664354.380715</td>\n",
              "      <td>2.636065</td>\n",
              "    </tr>\n",
              "    <tr>\n",
              "      <th>min</th>\n",
              "      <td>0.000000</td>\n",
              "      <td>0.010000</td>\n",
              "      <td>-4.605170</td>\n",
              "    </tr>\n",
              "    <tr>\n",
              "      <th>25%</th>\n",
              "      <td>5.100000</td>\n",
              "      <td>5.500000</td>\n",
              "      <td>1.704748</td>\n",
              "    </tr>\n",
              "    <tr>\n",
              "      <th>50%</th>\n",
              "      <td>24.190000</td>\n",
              "      <td>25.240000</td>\n",
              "      <td>3.228430</td>\n",
              "    </tr>\n",
              "    <tr>\n",
              "      <th>75%</th>\n",
              "      <td>170.690000</td>\n",
              "      <td>176.200000</td>\n",
              "      <td>5.171620</td>\n",
              "    </tr>\n",
              "    <tr>\n",
              "      <th>max</th>\n",
              "      <td>60000000.000000</td>\n",
              "      <td>60000000.000000</td>\n",
              "      <td>17.909855</td>\n",
              "    </tr>\n",
              "  </tbody>\n",
              "</table>\n",
              "</div>"
            ],
            "text/plain": [
              "                mass_g        logmass_g finalogmass_g\n",
              "count     34513.000000     34065.000000  34065.000000\n",
              "mean      16861.825502     17083.580905      3.613131\n",
              "std      660031.138864    664354.380715      2.636065\n",
              "min           0.000000         0.010000     -4.605170\n",
              "25%           5.100000         5.500000      1.704748\n",
              "50%          24.190000        25.240000      3.228430\n",
              "75%         170.690000       176.200000      5.171620\n",
              "max    60000000.000000  60000000.000000     17.909855"
            ]
          },
          "metadata": {
            "tags": []
          },
          "execution_count": 180
        }
      ]
    },
    {
      "cell_type": "code",
      "metadata": {
        "id": "4o94SEd6KJiY",
        "colab": {
          "base_uri": "https://localhost:8080/",
          "height": 951
        },
        "outputId": "bc7b5c85-a8fd-470d-b155-e9c6316da3af"
      },
      "source": [
        "#this is where I really ran into major issues, and I finally really just gave up.\n",
        "# set the X-axis values, set the bins, layout the plot area, give it labels,\n",
        "# and attempt to label the histogram command as a variable to pass into a function\n",
        "# -- it rendered well, but it completely misses the point of including the other \"NaN\" data\n",
        "\n",
        "x = df1['finalogmass_g']\n",
        "bins = [-2,-1,0,1,2,3,4,5,6,7]\n",
        "plt.figure(figsize = (20,10))\n",
        "rects = plt.hist(df1['finalogmass_g'], bins, histtype='bar', rwidth=0.8, range=(x.min(), x.max()), color='coral')\n",
        "\n",
        "\n",
        "plt.xlabel('Sum of the number of records for each LogMass_G, Binned')\n",
        "plt.ylabel('Number of Records')\n",
        "plt.title('Bar Chart of Normalized Log of Mass_G')\n",
        "plt.xticks(np.arange(-2, 8, 1),rotation = 90)\n",
        "\n",
        "def autolabel(rects, xpos='center'):\n",
        "    \"\"\"\n",
        "    Attach a text label above each bar in *rects*, displaying its height.\n",
        "\n",
        "    *xpos* indicates which side to place the text w.r.t. the center of\n",
        "    the bar. It can be one of the following {'center', 'right', 'left'}.\n",
        "    \"\"\"\n",
        "\n",
        "    xpos = xpos.lower()  # normalize the case of the parameter\n",
        "    ha = {'center': 'center', 'right': 'left', 'left': 'right'}\n",
        "    offset = {'center': 0.5, 'right': 0.57, 'left': 0.43}  # x_txt = x + w*off\n",
        "\n",
        "    for rect in rects:\n",
        "        height = rect.get_height()\n",
        "        ax.text(rect.get_x() + rect.get_width()*offset[xpos], 1.01*height,\n",
        "                '{}'.format(height), ha=ha[xpos], va='bottom')\n",
        "\n",
        "\n",
        "autolabel(rects, \"center\")\n"
      ],
      "execution_count": null,
      "outputs": [
        {
          "output_type": "error",
          "ename": "AttributeError",
          "evalue": "ignored",
          "traceback": [
            "\u001b[0;31m---------------------------------------------------------------------------\u001b[0m",
            "\u001b[0;31mAttributeError\u001b[0m                            Traceback (most recent call last)",
            "\u001b[0;32m<ipython-input-213-460ac6472d42>\u001b[0m in \u001b[0;36m<module>\u001b[0;34m()\u001b[0m\n\u001b[1;32m     30\u001b[0m \u001b[0;34m\u001b[0m\u001b[0m\n\u001b[1;32m     31\u001b[0m \u001b[0;34m\u001b[0m\u001b[0m\n\u001b[0;32m---> 32\u001b[0;31m \u001b[0mautolabel\u001b[0m\u001b[0;34m(\u001b[0m\u001b[0mrects\u001b[0m\u001b[0;34m,\u001b[0m \u001b[0;34m\"center\"\u001b[0m\u001b[0;34m)\u001b[0m\u001b[0;34m\u001b[0m\u001b[0;34m\u001b[0m\u001b[0m\n\u001b[0m",
            "\u001b[0;32m<ipython-input-213-460ac6472d42>\u001b[0m in \u001b[0;36mautolabel\u001b[0;34m(rects, xpos)\u001b[0m\n\u001b[1;32m     25\u001b[0m \u001b[0;34m\u001b[0m\u001b[0m\n\u001b[1;32m     26\u001b[0m     \u001b[0;32mfor\u001b[0m \u001b[0mrect\u001b[0m \u001b[0;32min\u001b[0m \u001b[0mrects\u001b[0m\u001b[0;34m:\u001b[0m\u001b[0;34m\u001b[0m\u001b[0;34m\u001b[0m\u001b[0m\n\u001b[0;32m---> 27\u001b[0;31m         \u001b[0mheight\u001b[0m \u001b[0;34m=\u001b[0m \u001b[0mrect\u001b[0m\u001b[0;34m.\u001b[0m\u001b[0mget_height\u001b[0m\u001b[0;34m(\u001b[0m\u001b[0;34m)\u001b[0m\u001b[0;34m\u001b[0m\u001b[0;34m\u001b[0m\u001b[0m\n\u001b[0m\u001b[1;32m     28\u001b[0m         ax.text(rect.get_x() + rect.get_width()*offset[xpos], 1.01*height,\n\u001b[1;32m     29\u001b[0m                 '{}'.format(height), ha=ha[xpos], va='bottom')\n",
            "\u001b[0;31mAttributeError\u001b[0m: 'numpy.ndarray' object has no attribute 'get_height'"
          ]
        },
        {
          "output_type": "display_data",
          "data": {
            "image/png": "[encoded data removed]",
            "text/plain": [
              "<Figure size 1440x720 with 1 Axes>"
            ]
          },
          "metadata": {
            "tags": []
          }
        }
      ]
    },
    {
      "cell_type": "code",
      "metadata": {
        "id": "-KFv-phEmOyf",
        "colab": {
          "base_uri": "https://localhost:8080/",
          "height": 468
        },
        "outputId": "2b697d27-4682-48cf-d95c-4e14123fd097"
      },
      "source": [
        "# Plotting a countplot by type\n",
        "# A different approach, using ggplot in Python...still didn't get it.\n",
        "plt.style.use(\"ggplot\")\n",
        "plt.figure(figsize = (10,5))\n",
        "plt.xlabel(\"Sum of the number of records for each LogMass_G\")\n",
        "plt.ylabel(\"Number of Records\")\n",
        "plt.title(\"Bar Chart of Normalized Log of Mass_G\")\n",
        "plt.hist(df1['finalogmass_g'])\n",
        "plt.xticks(rotation = 90)\n"
      ],
      "execution_count": null,
      "outputs": [
        {
          "output_type": "stream",
          "text": [
            "/usr/local/lib/python3.6/dist-packages/numpy/lib/histograms.py:839: RuntimeWarning: invalid value encountered in greater_equal\n",
            "  keep = (tmp_a >= first_edge)\n",
            "/usr/local/lib/python3.6/dist-packages/numpy/lib/histograms.py:840: RuntimeWarning: invalid value encountered in less_equal\n",
            "  keep &= (tmp_a <= last_edge)\n"
          ],
          "name": "stderr"
        },
        {
          "output_type": "execute_result",
          "data": {
            "text/plain": [
              "(array([-10.,  -5.,   0.,   5.,  10.,  15.,  20.]),\n",
              " <a list of 7 Text major ticklabel objects>)"
            ]
          },
          "metadata": {
            "tags": []
          },
          "execution_count": 183
        },
        {
          "output_type": "display_data",
          "data": {
            "image/png": "[encoded data removed]",
            "text/plain": [
              "<Figure size 720x360 with 1 Axes>"
            ]
          },
          "metadata": {
            "tags": []
          }
        }
      ]
    }
  ]
}